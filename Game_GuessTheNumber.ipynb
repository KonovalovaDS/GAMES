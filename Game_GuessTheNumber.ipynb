{
 "cells": [
  {
   "cell_type": "code",
   "execution_count": null,
   "id": "5d562e86",
   "metadata": {},
   "outputs": [],
   "source": [
    "import numpy as np"
   ]
  },
  {
   "cell_type": "code",
   "execution_count": null,
   "id": "98f2949b",
   "metadata": {},
   "outputs": [],
   "source": [
    "\"\"\" 'Game Guess the number' \"\"\"\n",
    "    \n",
    "number = np.random.randint(1, 101) # Think of the number\n",
    "count = 0 # argument to count number of attempts\n",
    "\n",
    "while True:\n",
    "    count += 1\n",
    "    predict_number = int(input('Guess the number bewtween 1 and 100'))\n",
    "    \n",
    "    if predict_number > number:\n",
    "        print('The number shall be smaller!')\n",
    "    elif predict_number < number:\n",
    "        print('The number shall be bigger!')\n",
    "    else:\n",
    "        print(f'You have guessed the number! This number is {number} for {count} number of attempts')\n",
    "        break"
   ]
  },
  {
   "cell_type": "code",
   "execution_count": null,
   "id": "5f8549f7",
   "metadata": {},
   "outputs": [],
   "source": [
    "\"\"\" Game 'Guess the number'\n",
    "    Computer think about the number itself and guess it itself\"\"\"\n",
    "def random_predict(number:int = 1) -> int:\n",
    "    \"\"\"Randomly guessing the number\n",
    "\n",
    "    Args:\n",
    "        number (int, optional): Hidden number. Defaults to 1.\n",
    "\n",
    "    Returns:\n",
    "        int: Number of attempts\n",
    "    \"\"\"\n",
    "    count = 0\n",
    "    while True:\n",
    "        count += 1\n",
    "        predict_number = np.random.randint(1, 101) # hidden number\n",
    "        if number == predict_number:\n",
    "            break # exit from loop if have guessed the number\n",
    "    return(count)\n",
    "print(f'Number of attempts: {random_predict()}')"
   ]
  },
  {
   "cell_type": "code",
   "execution_count": null,
   "id": "7c0e1ebc",
   "metadata": {},
   "outputs": [],
   "source": [
    "def score_game(random_predict) -> int:\n",
    "    \"\"\"For how many attempts in average within 1000 approaches\n",
    "    the number would be guessed.\n",
    "    \n",
    "    np.random.seed(1) - The random number generator needs a number \n",
    "    to start with (a seed value), to be able to generate a random number.\n",
    "\n",
    "    Args:\n",
    "        random_predict ([_type_]): guess function\n",
    "\n",
    "    Returns:\n",
    "        int: average number of attempts\n",
    "    \"\"\"\n",
    "    count_ls = [] # list to save number of attempts\n",
    "    np.random.seed(1) # setting the number to start random generating\n",
    "    random_array = np.random.randint(1, 101, size=(1000)) # have set the list of numbers\n",
    "    \n",
    "    for number in random_array:\n",
    "        count_ls.append(random_predict(number))\n",
    "        \n",
    "    score = int(np.mean(count_ls)) # average number of attempts\n",
    "    \n",
    "    print(f'Your algorithm is guessing the number for {score} attempts in average')\n",
    "    return (score)\n",
    "score_game(random_predict)\n",
    "\n",
    "if __name__ == '__main__':\n",
    "    score_game(random_predict)"
   ]
  }
 ],
 "metadata": {
  "kernelspec": {
   "display_name": "Python 3 (ipykernel)",
   "language": "python",
   "name": "python3"
  },
  "language_info": {
   "codemirror_mode": {
    "name": "ipython",
    "version": 3
   },
   "file_extension": ".py",
   "mimetype": "text/x-python",
   "name": "python",
   "nbconvert_exporter": "python",
   "pygments_lexer": "ipython3",
   "version": "3.9.13"
  }
 },
 "nbformat": 4,
 "nbformat_minor": 5
}
